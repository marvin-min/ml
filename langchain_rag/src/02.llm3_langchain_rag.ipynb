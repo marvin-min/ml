{
 "cells": [
  {
   "cell_type": "code",
   "execution_count": 4,
   "metadata": {},
   "outputs": [
    {
     "name": "stdout",
     "output_type": "stream",
     "text": [
      "Here is a concise summary of the text:\n",
      "\n",
      "ACTIVE Network participated as a gold sponsor in the 2024 AAPI Heritage & Dragon Boat Festival in Dallas. The festival celebrated the culture and heritage of Asian American and Pacific Islander communities through traditional dragon boat races, cultural performances, and educational activities. ACTIVE's involvement included team participation in the dragon boat races and sponsorship. The event was a celebration of unity, diversity, and community, and ACTIVE's participation reflected its commitment to corporate social responsibility and promoting inclusivity.\n"
     ]
    }
   ],
   "source": [
    "from langchain_community.llms import Ollama\n",
    "from langchain_community.document_loaders import WebBaseLoader\n",
    "from langchain.chains.summarize import load_summarize_chain\n",
    "\n",
    "loader = WebBaseLoader(\"https://www.activenetwork.com/blog/active-participates-in-the-2024-aapi-heritage-dragon-boat-festival-in-dallas\")\n",
    "docs = loader.load()\n",
    "\n",
    "llm = Ollama(model=\"llama3\")\n",
    "chain = load_summarize_chain(llm, chain_type=\"stuff\")\n",
    "\n",
    "result = chain.invoke(docs) \n",
    "print(result['output_text'])"
   ]
  },
  {
   "cell_type": "code",
   "execution_count": 1,
   "metadata": {},
   "outputs": [
    {
     "name": "stdout",
     "output_type": "stream",
     "text": [
      "What a great question!\n",
      "\n",
      "The sky appears blue to our eyes because of the way that light interacts with the Earth's atmosphere. Here's a simplified explanation:\n",
      "\n",
      "1. **Sunlight**: When the sun emits sunlight, it contains all the colors of the visible spectrum (red, orange, yellow, green, blue, indigo, and violet).\n",
      "2. **Atmospheric scattering**: As this sunlight travels through the Earth's atmosphere, it encounters tiny molecules of gases like nitrogen (N2) and oxygen (O2), as well as aerosols like dust, water vapor, and pollutants.\n",
      "3. **Scattering of shorter wavelengths**: These tiny particles scatter the shorter wavelengths of light, such as blue and violet, more efficiently than the longer wavelengths, like red and orange. This is known as Rayleigh scattering, named after the British physicist Lord Rayleigh, who first described the phenomenon in the late 19th century.\n",
      "4. **Blue dominance**: As a result of this scattering, the shorter wavelengths (like blue) are distributed throughout the atmosphere, while the longer wavelengths (like red and orange) continue to travel in more direct paths to our eyes. This means that the blue light is dispersed over a larger area, making it more visible to us.\n",
      "5. **Our perception**: When we look at the sky, our brains process the combined effects of this scattered blue light and the direct transmission of longer wavelengths. To our eyes, this appears as a bright blue color.\n",
      "\n",
      "In summary, the sky appears blue because:\n",
      "\n",
      "* The sun emits a broad spectrum of light\n",
      "* The atmosphere scatters shorter wavelengths (like blue) more efficiently than longer wavelengths (like red)\n",
      "* This scattering distributes blue light throughout the atmosphere\n",
      "* Our brains process this scattered blue light and the direct transmission of longer wavelengths, resulting in the perception of a blue sky\n",
      "\n",
      "Isn't that cool?\n"
     ]
    }
   ],
   "source": [
    "from langchain_community.llms import Ollama\n",
    "ollama = Ollama(\n",
    "    base_url='http://localhost:11434',\n",
    "    model=\"mxbai-embed-large\"\n",
    ")\n",
    "print(ollama.invoke(\"why is the sky blue\"))"
   ]
  },
  {
   "cell_type": "code",
   "execution_count": 2,
   "metadata": {},
   "outputs": [
    {
     "name": "stdout",
     "output_type": "stream",
     "text": [
      "A classic question! 🌞️️️\n",
      "\n",
      "So, why is it hot in the summer? Well, there are several reasons:\n",
      "\n",
      "1. **Earth's tilt**: The Earth is tilted on its axis at an angle of about 23.5 degrees. This means that, during summer in the Northern Hemisphere, the North Pole is pointing towards the sun, resulting in more direct sunlight and heat being absorbed.\n",
      "2. **Solar radiation**: The sun emits a huge amount of energy in the form of electromagnetic radiation, including visible light and infrared radiation (heat). In the summer, the sun's rays hit the Earth at a more direct angle, increasing the amount of solar radiation that is absorbed by the atmosphere and the surface.\n",
      "3. **Atmospheric conditions**: During the summer months, the atmosphere is generally warmer and more humid than during the winter months. This leads to a stronger greenhouse effect, where heat from the sun is trapped by gases like carbon dioxide, methane, and water vapor, causing the temperature to rise even further.\n",
      "4. **Heat retention**: The Earth's surface and atmosphere have a natural ability to retain heat, known as thermal inertia. This means that the warmth generated during the day is stored and released at night, contributing to the overall heat of the summer months.\n",
      "5. **Weather patterns**: Summer weather patterns, such as high-pressure systems and tropical cyclones (e.g., hurricanes), can also contribute to hot temperatures.\n",
      "\n",
      "These factors combined create the perfect conditions for a sweltering summer! 😊️️️\n"
     ]
    }
   ],
   "source": [
    "print(ollama.invoke(\"夏天为什么热？\"))"
   ]
  },
  {
   "cell_type": "markdown",
   "metadata": {},
   "source": [
    "pip install streamlit"
   ]
  },
  {
   "cell_type": "code",
   "execution_count": 19,
   "metadata": {},
   "outputs": [],
   "source": [
    "from langchain.document_loaders import WebBaseLoader\n",
    "loader = WebBaseLoader(\"https://en.wikipedia.org/wiki/2023_Hawaii_wildfires\")\n",
    "data = loader.load()"
   ]
  },
  {
   "cell_type": "code",
   "execution_count": 26,
   "metadata": {},
   "outputs": [],
   "source": [
    "from langchain.text_splitter import RecursiveCharacterTextSplitter\n",
    "\n",
    "text_splitter=RecursiveCharacterTextSplitter(chunk_size=500, chunk_overlap=0)\n",
    "all_splits = text_splitter.split_documents(data)"
   ]
  },
  {
   "cell_type": "code",
   "execution_count": 30,
   "metadata": {},
   "outputs": [],
   "source": [
    "from langchain.embeddings import OllamaEmbeddings\n",
    "from langchain.vectorstores import Chroma\n",
    "oembed = OllamaEmbeddings(base_url=\"http://localhost:11434\", model=\"mxbai-embed-large\")\n",
    "vectorstore = Chroma.from_documents(documents=all_splits, embedding=oembed)"
   ]
  },
  {
   "cell_type": "code",
   "execution_count": 31,
   "metadata": {},
   "outputs": [
    {
     "data": {
      "text/plain": [
       "[Document(page_content='On August 16, Governor Josh Green announced his intention to create a moratorium on the sale of land damaged and destroyed by the fires. While acknowledging there may be legal challenges to such a moratorium, he asked \"please don\\'t approach them with an offer to buy land. Please don\\'t approach their families to tell them that they are going to be better off if they make a deal, because we\\'re not going to allow it.\"[193]', metadata={'language': 'en', 'source': 'https://en.wikipedia.org/wiki/2023_Hawaii_wildfires', 'title': '2023 Hawaii wildfires - Wikipedia'}),\n",
       " Document(page_content='On August 16, Governor Josh Green announced his intention to create a moratorium on the sale of land damaged and destroyed by the fires. While acknowledging there may be legal challenges to such a moratorium, he asked \"please don\\'t approach them with an offer to buy land. Please don\\'t approach their families to tell them that they are going to be better off if they make a deal, because we\\'re not going to allow it.\"[193]', metadata={'language': 'en', 'source': 'https://en.wikipedia.org/wiki/2023_Hawaii_wildfires', 'title': '2023 Hawaii wildfires - Wikipedia'}),\n",
       " Document(page_content='On August 16, Governor Josh Green announced his intention to create a moratorium on the sale of land damaged and destroyed by the fires. While acknowledging there may be legal challenges to such a moratorium, he asked \"please don\\'t approach them with an offer to buy land. Please don\\'t approach their families to tell them that they are going to be better off if they make a deal, because we\\'re not going to allow it.\"[193]', metadata={'language': 'en', 'source': 'https://en.wikipedia.org/wiki/2023_Hawaii_wildfires', 'title': '2023 Hawaii wildfires - Wikipedia'}),\n",
       " Document(page_content=\"In early August 2023, a series of wildfires broke out in the U.S. state of Hawaii, predominantly on the island of Maui. The wind-driven fires prompted evacuations and caused widespread damage, killing at least 101 people and leaving two persons missing in the town of Lahaina on Maui's northwest coast. The proliferation of the wildfires was attributed to dry, gusty conditions created by a strong high-pressure area north of Hawaii and Hurricane Dora to the south.[9]\", metadata={'language': 'en', 'source': 'https://en.wikipedia.org/wiki/2023_Hawaii_wildfires', 'title': '2023 Hawaii wildfires - Wikipedia'})]"
      ]
     },
     "execution_count": 31,
     "metadata": {},
     "output_type": "execute_result"
    }
   ],
   "source": [
    "question=\"When was Hawaii's request for a major disaster declaration approved?\"\n",
    "docs = vectorstore.similarity_search(question)\n",
    "docs"
   ]
  },
  {
   "cell_type": "code",
   "execution_count": 32,
   "metadata": {},
   "outputs": [
    {
     "data": {
      "text/plain": [
       "{'query': \"When was Hawaii's request for a major disaster declaration approved?\",\n",
       " 'result': \"I don't know. The provided context does not mention a request for a major disaster declaration or its approval. It only mentions Governor Josh Green announcing his intention to create a moratorium on the sale of land damaged and destroyed by the fires, as well as the facts about the wildfires themselves.\"}"
      ]
     },
     "execution_count": 32,
     "metadata": {},
     "output_type": "execute_result"
    }
   ],
   "source": [
    "from langchain.chains import RetrievalQA\n",
    "qachain=RetrievalQA.from_chain_type(ollama, retriever=vectorstore.as_retriever())\n",
    "qachain.invoke({\"query\": question})"
   ]
  }
 ],
 "metadata": {
  "kernelspec": {
   "display_name": "langchain_rag",
   "language": "python",
   "name": "python3"
  },
  "language_info": {
   "codemirror_mode": {
    "name": "ipython",
    "version": 3
   },
   "file_extension": ".py",
   "mimetype": "text/x-python",
   "name": "python",
   "nbconvert_exporter": "python",
   "pygments_lexer": "ipython3",
   "version": "3.12.3"
  }
 },
 "nbformat": 4,
 "nbformat_minor": 2
}
